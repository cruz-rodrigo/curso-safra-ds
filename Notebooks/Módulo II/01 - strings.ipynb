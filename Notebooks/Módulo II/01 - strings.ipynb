{
 "cells": [
  {
   "cell_type": "markdown",
   "metadata": {},
   "source": [
    "# Strings\n",
    "\n",
    "No passado foi mencionado que temos quatro tipos de dados: inteiro, real, lógico e texto/literal (_string_). Na verdade, o quarto tipo básico seria um _caractere_. Uma _string_ é uma **coleção** de caracteres - como se fosse uma lista, mas aceitando apenas elementos textuais.\n",
    "Vamos verificar algumas propriedades das _strings_!\n",
    "\n",
    "## Acessando elementos em uma _string_\n",
    "No capítulo sobre Listas, vimos que podemos acessar elementos individuais de uma lista utilizando um índice entre colchetes. Vamos testar a mesma lógica com _strings_?"
   ]
  },
  {
   "cell_type": "code",
   "execution_count": 3,
   "metadata": {},
   "outputs": [
    {
     "name": "stdout",
     "output_type": "stream",
     "text": [
      "L\n",
      "e\n",
      "t\n",
      "'\n",
      "s\n",
      " \n",
      "C\n"
     ]
    }
   ],
   "source": [
    "frase = \"Let's Code\"\n",
    "print(frase[0])\n",
    "print(frase[1])\n",
    "print(frase[2])\n",
    "print(frase[3])\n",
    "print(frase[4])\n",
    "print(frase[5])\n",
    "print(frase[6])"
   ]
  },
  {
   "cell_type": "markdown",
   "metadata": {},
   "source": [
    "Note que o programa acima imprime \"Let's\", com um caractere por linha. Ou seja, ele considerou frase[0] como \"L\", frase[1] como \"e\", e assim sucessivamente. Uma _string_ é, de fato, uma coleção de caracteres.\n",
    "\n",
    "Porém, ao contrário de uma lista, dizemos que uma _string_ é **imutável**. Isso significa que não podemos alterar um elemento individual da _string_.\n",
    "O programa abaixo produz um erro:"
   ]
  },
  {
   "cell_type": "code",
   "execution_count": null,
   "metadata": {},
   "outputs": [],
   "source": [
    "frase = \"let's code\"\n",
    "frase[0] = 'L'"
   ]
  },
  {
   "cell_type": "markdown",
   "metadata": {},
   "source": [
    "Para alterar uma _string_, é necessário **redefini-la**, de modo que a _string_ original será descartada e a nova (alterada) será escrita por cima da original. Ou, alternativamente, podemos gerar uma cópia da _string_ com alterações. Veremos mais detalhes adiante."
   ]
  },
  {
   "cell_type": "markdown",
   "metadata": {},
   "source": [
    "## Operações entre _strings_\n",
    "Alguns operadores aritméticos funcionam com _strings_ também. Naturalmente, eles não servem para fazer contas, mas nos permitem fazer de forma intuitiva algumas operações bastante úteis.\n",
    "\n",
    "O operador **+** serve como um operador de **concatenação** de _strings_: unir duas _strings_. Observe o exemplo abaixo: "
   ]
  },
  {
   "cell_type": "code",
   "execution_count": 16,
   "metadata": {},
   "outputs": [
    {
     "name": "stdout",
     "output_type": "stream",
     "text": [
      "OláMundo\n"
     ]
    }
   ],
   "source": [
    "string1 = 'Olá'\n",
    "string2 = 'Mundo'\n",
    "resultado = string1 + string2\n",
    "print(resultado) # Na tela: 'OláMundo'\n",
    "\n"
   ]
  },
  {
   "cell_type": "markdown",
   "metadata": {},
   "source": [
    "Outro operador que funciona é o operador **\\***. Este operador não é usado entre duas _strings_, mas entre uma _string_ e um **int**. Ele repetirá a _string_ o número de vezes dado pelo **int**."
   ]
  },
  {
   "cell_type": "code",
   "execution_count": 15,
   "metadata": {},
   "outputs": [
    {
     "name": "stdout",
     "output_type": "stream",
     "text": [
      "Olá mundo!Olá mundo!Olá mundo!\n"
     ]
    }
   ],
   "source": [
    "string = 'Olá mundo!'\n",
    "multi = string * 3\n",
    "print(multi) # Na tela: 'Olá mundo!Olá mundo!Olá mundo!'"
   ]
  },
  {
   "cell_type": "markdown",
   "metadata": {},
   "source": [
    "### Copiando uma _string_ através de concatenação\n",
    "Caso você já tenha resolvido problemas de somatório (a essa altura, espera-se que tenha resolvido vários!), você já deve estar acostumado a utilizar um _loop_ onde novos valores são somados em uma mesma variável. Somar os números de uma lista, por exemplo, tem mais ou menos essa carinha:\n",
    "\n",
    "```python\n",
    "soma = 0\n",
    "for numero in lista:\n",
    "\tsoma = soma + numero\n",
    "```\n",
    "\n",
    "A mesma lógica pode ser aplicada a uma _string_:"
   ]
  },
  {
   "cell_type": "code",
   "execution_count": 17,
   "metadata": {},
   "outputs": [
    {
     "name": "stdout",
     "output_type": "stream",
     "text": [
      "Olá Mundo\n"
     ]
    }
   ],
   "source": [
    "string_inicial = 'Olá Mundo'\n",
    "string_final = '' # cria uma string vazia\n",
    "\n",
    "for letra in string_inicial:\n",
    "\tstring_final = string_final + letra\n",
    "print(string_final)"
   ]
  },
  {
   "cell_type": "markdown",
   "metadata": {},
   "source": [
    "Isso é útil porque antes de \"somar\" cada letra à _string_ final podemos fazer alterações (como transformar em maiúscula ou minúscula, acrescentar caracteres entre 2 letras etc). É um jeito de fazer tratamento de _strings_. Veremos mais sobre tratamento de _strings_ no capítulo de funções de _strings_.\n"
   ]
  },
  {
   "cell_type": "markdown",
   "metadata": {},
   "source": [
    "# Transformando uma _string_ em lista\n",
    "_Strings_ são imutáveis, e isso pode nos dar um pouco de trabalho quando queremos fazer pequenas alterações, como forçar um caractere a ser maiúsculo ou acrescentar um caractere à _string_. Uma das formas de fazer envolve a \"soma cumulativa\" apresentada acima. Outra forma envolve transformar a nossa _string_ em lista, que é uma estrutura mutável. Execute o programa abaixo:"
   ]
  },
  {
   "cell_type": "code",
   "execution_count": 18,
   "metadata": {},
   "outputs": [
    {
     "name": "stdout",
     "output_type": "stream",
     "text": [
      "['L', 'e', 't', \"'\", 's', ' ', 'C', 'o', 'd', 'e', '!']\n"
     ]
    }
   ],
   "source": [
    "string = \"let's Code\"\n",
    "lista = list(string)\n",
    "lista[0] = 'L'\n",
    "lista.append('!')\n",
    "print(lista) "
   ]
  },
  {
   "cell_type": "markdown",
   "metadata": {},
   "source": [
    "Como a lista é mutável, nela conseguimos alterar uma letra e adicionar um símbolo ao final sem dificuldades! Porém, infelizmente nosso resultado é uma lista, o que não ficou muito legível para o usuário. Podemos resolver isso utilizando a função _join_. Veremos em breve como ele realmente funciona, mas por hora podemos utilizá-lo da seguinte maneira para transformar lista em _string_:"
   ]
  },
  {
   "cell_type": "code",
   "execution_count": 24,
   "metadata": {},
   "outputs": [
    {
     "name": "stdout",
     "output_type": "stream",
     "text": [
      "Let's Code!?\n"
     ]
    }
   ],
   "source": [
    "string_original = \"let's Code\"\n",
    "lista = list(string_original)\n",
    "lista[0] = 'L'\n",
    "lista.append('!')\n",
    "string_final = ''.join(lista) # antes do . temos uma string vazia\n",
    "print(string_final)"
   ]
  },
  {
   "cell_type": "markdown",
   "metadata": {},
   "source": [
    "Para as modificações mais comuns, temos algumas funções prontas que poderão ser bastante úteis!\n",
    "\n",
    "## Símbolos especiais\n",
    "Além de letras, números, sinais de pontuação, símbolos matemáticos etc, uma _string_ pode conter alguns operadores especiais de controle. Esses operadores podem indicar, por exemplo, uma quebra de linha ou uma tabulação. Vejamos os mais comuns:\n",
    "\n",
    "### Quebra de linha\n",
    "Uma quebra de linha indica que o programa exibindo a _string_ deverá quebrar a linha atual e exibir o restante da _string_ na linha seguinte, e é representada na maioria dos sistemas e na _web_ pelo símbolo ```\\n```. Execute o programa abaixo e veja o resultado na tela:\n"
   ]
  },
  {
   "cell_type": "code",
   "execution_count": 25,
   "metadata": {},
   "outputs": [
    {
     "name": "stdout",
     "output_type": "stream",
     "text": [
      "Olá\n",
      "Mundo\n"
     ]
    }
   ],
   "source": [
    "print('Olá\\nMundo')"
   ]
  },
  {
   "cell_type": "markdown",
   "metadata": {},
   "source": [
    "### Tabulação\n",
    "A tabulação indica um recuo equivalente ao da tecla _Tab_ - um recuo de início de parágrafo, ou o recuo que usamos para aninhar linhas de código em Python. Ela é representada pelo símbolo ```\\t```. Verifique o resultado do exemplo abaixo:"
   ]
  },
  {
   "cell_type": "code",
   "execution_count": 26,
   "metadata": {},
   "outputs": [
    {
     "name": "stdout",
     "output_type": "stream",
     "text": [
      "Candidatos aprovados:\n",
      "\t Mario\n",
      "\t Peach\n",
      "\t Luigi\n",
      "Candidatos reprovados:\n",
      "\t Wario\n",
      "\t Bowser\n"
     ]
    }
   ],
   "source": [
    "aprovados = ['Mario', 'Peach', 'Luigi']\n",
    "reprovados = ['Wario', 'Bowser']\n",
    "\n",
    "print('Candidatos aprovados:')\n",
    "for nome in aprovados:\n",
    "    print('\\t', nome)\n",
    "\n",
    "print('Candidatos reprovados:')\n",
    "for nome in reprovados:\n",
    "    print('\\t', nome)"
   ]
  },
  {
   "cell_type": "markdown",
   "metadata": {},
   "source": [
    "### Barra\n",
    "E se nós quiséssemos representar uma _string_ que explica o significado de ```\\n```, por exemplo, como proceder? Afinal, ao ver o símbolo ```\\n``` o programa entenderá que é uma quebra de linha e fará isso ao invés de escrever ```\\n``` na tela. \n",
    "\n",
    "Podemos utilizar 2 barras: ```\\\\```. Ao fazermos isso, o programa entende que é para representar a barra na tela ao invés de interpretá-la como início de outro símbolo especial."
   ]
  },
  {
   "cell_type": "code",
   "execution_count": 27,
   "metadata": {},
   "outputs": [
    {
     "name": "stdout",
     "output_type": "stream",
     "text": [
      "Utilizamos o \\n para quebrar linhas.\n"
     ]
    }
   ],
   "source": [
    "print('Utilizamos o \\\\n para quebrar linhas.')"
   ]
  },
  {
   "cell_type": "markdown",
   "metadata": {},
   "source": [
    "### Aspas\n",
    "Um problema que você deve ter se deparado é que parece impossível representar o símbolo ```'``` em uma _string_ que foi aberta por esse símbolo, já que a segunda ocorrência dele fechará a string. Idem para o símbolo ```\"```. Podemos resolver isso da mesma forma que fizemos com a barra: ```\\'``` irá sempre representar o símbolo ```'``` e ```\\\"``` irá sempre representar o símbolo ```\"``` ao invés de fechar uma _string_."
   ]
  },
  {
   "cell_type": "code",
   "execution_count": 28,
   "metadata": {},
   "outputs": [
    {
     "name": "stdout",
     "output_type": "stream",
     "text": [
      "Imprimindo uma aspa simples(') dentro de uma string sem problemas\n",
      "Imprimindo aspas duplas(\") dntro de uma string sem problemas\n"
     ]
    }
   ],
   "source": [
    "print('Imprimindo uma aspa simples(\\') dentro de uma string sem problemas')\n",
    "print(\"Imprimindo aspas duplas(\\\") dntro de uma string sem problemas\")"
   ]
  },
  {
   "cell_type": "markdown",
   "metadata": {},
   "source": [
    "# Funções de strings\n",
    "\n",
    "## Funções de _strings_\n",
    "É possível fazer várias operações com _strings_ utilizando técnicas como concatenação ou converter em listas. Porém, certas operações são muito comuns e podem ser muito trabalhosas de fazer na mão. Por isso, temos diversas funções prontas para nos ajudar.\n",
    "\n",
    "Note que como _strings_ são imutáveis, nenhuma dessas funções irá alterar a _string_ original. Elas sempre **retornarão** uma _string_ nova com as modificações desejadas.\n",
    "\n",
    "Vejamos algumas das mais usadas.\n",
    "\n",
    "### Maiúsculas e minúsculas\n",
    "Temos algumas funções prontas para alterar a capitalização das letras. Uma delas é a função _upper_, que transforma todas as letras da _string_ original em maiúsculas:"
   ]
  },
  {
   "cell_type": "code",
   "execution_count": 29,
   "metadata": {},
   "outputs": [
    {
     "name": "stdout",
     "output_type": "stream",
     "text": [
      "VAMOS PROGRAMAR\n"
     ]
    }
   ],
   "source": [
    "frase = 'vAmOs PrOgRaMaR'\n",
    "maiuscula = frase.upper()\n",
    "print(maiuscula) # resultado: 'VAMOS PROGRAMAR'"
   ]
  },
  {
   "cell_type": "markdown",
   "metadata": {},
   "source": [
    "Analogamente, temos a função _lower_ para transformar todas as letras em minúsculas:"
   ]
  },
  {
   "cell_type": "code",
   "execution_count": null,
   "metadata": {},
   "outputs": [],
   "source": [
    "frase = 'vAmOs PrOgRaMaR'\n",
    "minuscula = frase.lower()\n",
    "print(minuscula) # resultado: 'vamos programar'"
   ]
  },
  {
   "cell_type": "markdown",
   "metadata": {},
   "source": [
    "Também é possível formatar a _string_ inteira como um nome próprio: primeira letra de cada palavra maiúscula, todo o restante minúscula. Para isso temos a função _title_:"
   ]
  },
  {
   "cell_type": "code",
   "execution_count": 30,
   "metadata": {},
   "outputs": [
    {
     "name": "stdout",
     "output_type": "stream",
     "text": [
      "Vamos Programar\n"
     ]
    }
   ],
   "source": [
    "frase = 'vAmOs PrOgRaMaR'\n",
    "titulo = frase.title()\n",
    "print(titulo) # resultado: 'Vamos Programar'"
   ]
  },
  {
   "cell_type": "markdown",
   "metadata": {},
   "source": [
    "E, por fim, é possível tratar nossa _string_ como uma frase gramaticalmente correta: primeira letra maiúscula, todo o resto minúscula. Essa função é a _capitalize_:"
   ]
  },
  {
   "cell_type": "code",
   "execution_count": 31,
   "metadata": {},
   "outputs": [
    {
     "name": "stdout",
     "output_type": "stream",
     "text": [
      "Vamos programar\n"
     ]
    }
   ],
   "source": [
    "frase = 'vAmOs PrOgRaMaR'\n",
    "correta = frase.capitalize()\n",
    "print(correta) # resultado: 'Vamos programar'"
   ]
  },
  {
   "cell_type": "markdown",
   "metadata": {},
   "source": [
    "Uma utilidade para essas funções é padronizar entrada de usuário. Quando pedimos para o usuário digitar 'sim' caso ele deseje fazer algo, ele pode digitar 'SIM', 'sim', 'Sim', 'sIm', 'siM',  'SIm', 'sIM' ou 'SiM'. Prever todas essas condições em uma condicional pode ser bastante trabalhoso, ou mesmo impossível. Imagine se fosse uma _string_ de várias letras... Porém, podemos forçar um padrão para a entrada do usuário e comparar com esse padrão:"
   ]
  },
  {
   "cell_type": "code",
   "execution_count": 32,
   "metadata": {},
   "outputs": [
    {
     "name": "stdout",
     "output_type": "stream",
     "text": [
      "Seja bem-vindo!\n"
     ]
    }
   ],
   "source": [
    "usuario = input('Digite \"sim\" se aceita os termos de uso: ')\n",
    "if usuario.upper() == 'SIM':\n",
    "    print('Seja bem-vindo!')\n",
    "else:\n",
    "    print('Que pena.') "
   ]
  },
  {
   "cell_type": "markdown",
   "metadata": {},
   "source": [
    "### Quebrando uma _string_\n",
    "É possível separar uma _string_ em uma lista de _substrings_. Isso pode ser particularmente útil quando precisamos separar um texto em palavras individuais. A função que realiza essa quebra é o _split_:"
   ]
  },
  {
   "cell_type": "code",
   "execution_count": 40,
   "metadata": {},
   "outputs": [
    {
     "name": "stdout",
     "output_type": "stream",
     "text": [
      "['uma', 'frase', 'qualquer']\n"
     ]
    }
   ],
   "source": [
    "texto = 'uma frase qualquer'\n",
    "palavras = texto.split()\n",
    "print(palavras) # resultado: ['uma', 'frase', 'qualquer']"
   ]
  },
  {
   "cell_type": "markdown",
   "metadata": {},
   "source": [
    "O _split_ é mais do que apenas uma função para separar palavras. Podemos opcionalmente passar como parâmetro uma _string_ para ser usada como critério de separação: ao invés de quebrar no espaço em branco, a _string_ principal será quebrada nos pontos onde o parâmetro aparece (e ele será apagado do resultado final). \n",
    "\n",
    "Uma utilidade interessante para isso seria quando estamos interessados em ler dados formatados do teclado ou de um arquivo e pegar as informações que nos interessam. Imagine, por exemplo, que você queira que o usuário digite uma data no formato 'dd/mm/aaaa' e em seguida você precise separar dia, mês e ano em três variáveis do tipo **int**. Isso é possível com o _split_:"
   ]
  },
  {
   "cell_type": "code",
   "execution_count": 41,
   "metadata": {},
   "outputs": [
    {
     "name": "stdout",
     "output_type": "stream",
     "text": [
      "Dia:  1\n",
      "Mês:  2\n",
      "Ano:  2021\n"
     ]
    }
   ],
   "source": [
    "data = input('Digite uma data: ')\n",
    "lista_data = data.split('/')\n",
    "dia = int(lista_data[0])\n",
    "mes = int(lista_data[1])\n",
    "ano = int(lista_data[2])\n",
    "print('Dia: ', dia)\n",
    "print('Mês: ', mes)\n",
    "print('Ano: ', ano)"
   ]
  },
  {
   "cell_type": "markdown",
   "metadata": {},
   "source": [
    "### Substituindo elementos na _string_\n",
    "Uma das ferramentas mais úteis em qualquer editor de texto é o _localizar e substituir_, onde podemos buscar por todas as ocorrências de uma expressão no texto e trocar por outra expressão.\n",
    "Em Python temos uma função análoga, o _replace_. Ele recebe 2 parâmetros: a expressão a ser substituída e a expressão que a substituirá. Veja o exemplo:"
   ]
  },
  {
   "cell_type": "code",
   "execution_count": 42,
   "metadata": {},
   "outputs": [
    {
     "name": "stdout",
     "output_type": "stream",
     "text": [
      "Python é fácil. Por ser fácil, não devemos estudar.\n"
     ]
    }
   ],
   "source": [
    "frase = 'Python é difícil. Por ser difícil, devemos estudar.'\n",
    "corrigida = frase.replace('difícil', 'fácil').replace('devemos','não devemos')\n",
    "print(corrigida)"
   ]
  },
  {
   "cell_type": "markdown",
   "metadata": {},
   "source": [
    "Em Python não existe uma função para deletar um pedaço de uma _string_. Porém, podemos usar o replace para substituir uma expressão por uma _string_ vazia, o que tem o mesmo resultado:\n",
    "\n"
   ]
  },
  {
   "cell_type": "code",
   "execution_count": 44,
   "metadata": {},
   "outputs": [
    {
     "name": "stdout",
     "output_type": "stream",
     "text": [
      "b4t4t4\n"
     ]
    }
   ],
   "source": [
    "palavra = 'batata'\n",
    "consoantes = palavra.replace('a', '4')\n",
    "print(consoantes)"
   ]
  },
  {
   "cell_type": "markdown",
   "metadata": {},
   "source": [
    "### Concatenando _strings_ em uma coleção\n",
    "Imagine que você tem uma coleção (por exemplo, uma lista) de _strings_ e precisa unir todas elas utilizando algum símbolo padrão como separador entre elas. Para isso temos o _join_. Ele soa pouco intuitivo no começo, então convém executar o exemplo e observar com atenção seu resultado:"
   ]
  },
  {
   "cell_type": "code",
   "execution_count": 45,
   "metadata": {},
   "outputs": [
    {
     "name": "stdout",
     "output_type": "stream",
     "text": [
      "a123b123c\n"
     ]
    }
   ],
   "source": [
    "lista = ['a', 'b', 'c']\n",
    "separador = '123'\n",
    "resultado = separador.join(lista)\n",
    "print(resultado)"
   ]
  },
  {
   "cell_type": "markdown",
   "metadata": {},
   "source": [
    "Já vimos o _join_ antes sendo usado para converter uma lista de volta em _string_. Para isso, utilizávamos uma _string_ vazia como separador. Assim, os elementos da lista eram concatenados sem separador. \n",
    "> **Dica:** um jeito de memorizar facilmente como o _join_ funciona é pensar que o separador entrará no lugar das vírgulas na visualização da lista.\n"
   ]
  },
  {
   "cell_type": "markdown",
   "metadata": {},
   "source": [
    "## Formatando _strings_\n",
    "\n",
    "### A função _format_\n",
    "\n",
    "Todo mundo que já preencheu um contrato ou uma ficha de cadastro está familiar com textos nesse estilo:\n",
    "> Eu, __________, portador do CPF ___________, residente no endereço _________________________ autorizo o procedimento.\n",
    "\n",
    "Esse é o texto genérico que vale para todos, e cada um de nós em particular entende que deve preencher os campos em brancos com dados específicos (nome, CPF e endereço, no exemplo acima). \n",
    "\n",
    "Existe uma função em Python para realizar esse tipo de preenchimento de texto: o _format_. Suponha que você tenha dados em diferentes variáveis e precisa que todos eles apareçam em uma _string_.  Basta criar uma _string_ com os \"espaços em branco\" para serem preenchidos e passar as variáveis para a função. Os espaços em branco são representados por chaves (**{}**).\n"
   ]
  },
  {
   "cell_type": "code",
   "execution_count": 46,
   "metadata": {},
   "outputs": [
    {
     "name": "stdout",
     "output_type": "stream",
     "text": [
      "Eu, Rodrigo, portador do CPF 229.555.538.55, residente no endereço Rua das Pedras, 12 autorizo o procedimento.\n"
     ]
    }
   ],
   "source": [
    "nome = input('Digite seu nome: ')\n",
    "cpf = input('Digite seu cpf: ')\n",
    "endereco = input('Digite seu endereço: ')\n",
    "contrato = 'Eu, {}, portador do CPF {}, residente no endereço {} autorizo o procedimento.'\n",
    "contrato_preenchido = contrato.format(nome, cpf, endereco)\n",
    "print(contrato_preenchido)"
   ]
  },
  {
   "cell_type": "markdown",
   "metadata": {},
   "source": [
    "Porém, o grande charme não está apenas em preencher - isso poderia ser feito concatenando com o operador **+**. Nós podemos colocar opções de formatação nos nossos dados, como número de casas em um número. \n",
    "\n",
    "Imagine que você queira exibir uma data no formato dd/mm/aaaa. Em situações normais, dias e meses inferiores a 10 apareceriam com apenas 1 casa (**int** não é representado com zeros à esquerda). Porém, podemos especificar no _format_ que gostaríamos de representar um inteiro com 2 casas, preenchendo com zero casas em branco."
   ]
  },
  {
   "cell_type": "code",
   "execution_count": 51,
   "metadata": {},
   "outputs": [
    {
     "name": "stdout",
     "output_type": "stream",
     "text": [
      "01/02/2020\n"
     ]
    }
   ],
   "source": [
    "dia = 1\n",
    "mes = 2\n",
    "ano = 2020\n",
    "data = '{:02d}/{:02d}/{:04d}'.format(dia, mes, ano)\n",
    "print(data)"
   ]
  },
  {
   "cell_type": "markdown",
   "metadata": {},
   "source": [
    "Vamos entender o que está dentro das chaves: o símbolo **:** indica que passaremos opções. O símbolo 'd' indica que estamos representando números inteiros em base decimal (dígitos de 0 a 9). Os símbolos '2' e '4' indicam, respectivamente, 2 casas ou 4 casas. E o símbolo '0' indica que se faltar dígitos, os espaços devem ser preenchidos com zero.\n",
    "\n",
    "Vejamos outro exemplo, dessa vez com casas decimais. É normal postos de gasolina mostrarem o preço do litro com 3 casas decimais. Mas o preço final a ser cobrado deverá ter 2 casas. Porém, ao multiplicar o preço por litro pelo valor em litros, é provável que o total dê várias casas decimais. Usaremos o _format_ para representar com apenas 2 casas."
   ]
  },
  {
   "cell_type": "code",
   "execution_count": 52,
   "metadata": {},
   "outputs": [
    {
     "name": "stdout",
     "output_type": "stream",
     "text": [
      "154.403\n",
      "R$ 154.40\n"
     ]
    }
   ],
   "source": [
    "preco_litro = 5.234\n",
    "litros = 29.5\n",
    "total = preco_litro * litros\n",
    "print(total) \n",
    "\n",
    "preco_final = 'R$ {:.2f}'.format(total)\n",
    "print(preco_final) "
   ]
  },
  {
   "cell_type": "markdown",
   "metadata": {},
   "source": [
    "Neste caso, o 'f' indica que o número é **float**.  Já o '.2' indica que queremos 2 casas após o ponto decimal. Note que ele não apenas descarta as casas excedentes, e sim arredonda corretamente o número.\n",
    "> O _format_ possui tantas opções diferentes que existe um site inteiro dedicado a explicar e dar exemplos: [https://pyformat.info/](https://pyformat.info/)\n",
    "\n",
    "### _f-strings_\n",
    "A função _format_ já se mostrou bastante poderosa, e vimos como ela facilita muito nossa vida. Ela não apenas diminui nosso trabalho para concatenar múltiplas informações em uma única string, como ainda aceita opções diversas de formatação para cada uma das informações. Mas dá para ir um passo além.\n",
    "\n",
    "Ao colocarmos o caractere ```f``` imediatamente antes de abrir aspas para criar uma string, essa string irá se comportar de maneira muito semelhante à máscara de um _format_, e não será necessário chamar o _format_. Podemos colocar o nome de variáveis entre chaves para inseri-las automaticamente na string:"
   ]
  },
  {
   "cell_type": "code",
   "execution_count": 53,
   "metadata": {},
   "outputs": [
    {
     "name": "stdout",
     "output_type": "stream",
     "text": [
      "Eu, Rodrigo, portador do CPF 78378492340, residente no endereço Rua Monsenhor Januário Sangirardi, 175 autorizo o procedimento.\n"
     ]
    }
   ],
   "source": [
    "nome = input('Digite seu nome: ')\n",
    "cpf = input('Digite seu cpf: ')\n",
    "endereco = input('Digite seu endereço: ')\n",
    "contrato = f'Eu, {nome}, portador do CPF {cpf}, residente no endereço {endereco} autorizo o procedimento.'\n",
    "print(contrato)"
   ]
  },
  {
   "cell_type": "markdown",
   "metadata": {},
   "source": [
    "Inclusive podemos utilizar as mesmas opções de formatação do _format_ diretamente nas _f-strings_:"
   ]
  },
  {
   "cell_type": "code",
   "execution_count": 54,
   "metadata": {},
   "outputs": [
    {
     "name": "stdout",
     "output_type": "stream",
     "text": [
      "154.403\n",
      "R$ 154.40\n"
     ]
    }
   ],
   "source": [
    "preco_litro = 5.234\n",
    "litros = 29.5\n",
    "total = preco_litro * litros\n",
    "print(total) # resultado: 154.403\n",
    "\n",
    "preco_final = f'R$ {total:.2f}'\n",
    "print(preco_final) # resultado: R$ 154.40"
   ]
  },
  {
   "cell_type": "markdown",
   "metadata": {},
   "source": [
    "Desde o seu lançamento, as _f-strings_ vem se tornando cada vez mais populares, tornando o uso do _format_ menos comum."
   ]
  },
  {
   "cell_type": "markdown",
   "metadata": {},
   "source": [
    "# Exercícios"
   ]
  },
  {
   "cell_type": "markdown",
   "metadata": {},
   "source": [
    "Faça um programa que peça para o usuário digitar uma palavra e imprima cada letra em uma linha."
   ]
  },
  {
   "cell_type": "code",
   "execution_count": 56,
   "metadata": {},
   "outputs": [
    {
     "name": "stdout",
     "output_type": "stream",
     "text": [
      "R\n",
      "o\n",
      "d\n",
      "r\n",
      "i\n",
      "g\n",
      "o\n"
     ]
    }
   ],
   "source": [
    "texto = input(\"Por favor, insira uma palavra: \")\n",
    "\n",
    "for palavras in texto:\n",
    "    print(palavras)\n"
   ]
  },
  {
   "cell_type": "markdown",
   "metadata": {},
   "source": [
    "Faça um programa que pede para o usuário digitar uma palavra e cria uma nova string igual, copiando letra por letra a palavra digitada, depois imprima a nova string."
   ]
  },
  {
   "cell_type": "code",
   "execution_count": 126,
   "metadata": {},
   "outputs": [
    {
     "name": "stdout",
     "output_type": "stream",
     "text": [
      "rodrigo\n"
     ]
    }
   ],
   "source": [
    "palavra = input(\"Insira uma palavra: \")\n",
    "palavra_nova = \"\"\n",
    "\n",
    "for caracter in palavra:\n",
    "    palavra_nova += caracter\n",
    "print (palavra_nova)"
   ]
  },
  {
   "cell_type": "markdown",
   "metadata": {},
   "source": [
    "Altere o exercício anterior para que a string copiada alterne entre letras maiúsculas e minúsculas.\n",
    "\n",
    "Exemplo: se o usuário digitar \"latex\" o programa deve imprimir \"LaTeX\"."
   ]
  },
  {
   "cell_type": "code",
   "execution_count": 87,
   "metadata": {},
   "outputs": [
    {
     "name": "stdout",
     "output_type": "stream",
     "text": [
      "LaTeX\n"
     ]
    }
   ],
   "source": [
    "palavra = input(\"Insira uma palavra: \")\n",
    "palavra_nova = \"\"\n",
    "\n",
    "for caracter in range(0,len(palavra)):\n",
    "    if caracter%2 == 0:\n",
    "        palavra_nova += palavra[caracter].upper()\n",
    "    else:\n",
    "        palavra_nova += palavra[caracter]\n",
    "print (palavra_nova)"
   ]
  },
  {
   "cell_type": "markdown",
   "metadata": {},
   "source": [
    "Faça um programa que pede para o usuário digitar uma palavra e cria uma nova string igual, porém com espaço entre cada letra, depois imprima a nova string:\n",
    "\n",
    "Exemplo: se o usuário digitar \"python\" o programa deve imprimir \"p y t h o n \""
   ]
  },
  {
   "cell_type": "code",
   "execution_count": 91,
   "metadata": {},
   "outputs": [
    {
     "name": "stdout",
     "output_type": "stream",
     "text": [
      "p y t h o n\n"
     ]
    }
   ],
   "source": [
    "palavra = input(\"Insira uma palavra: \")\n",
    "palavra_nova = ' '.join(palavra)\n",
    "\n",
    "print(palavra_nova)"
   ]
  },
  {
   "cell_type": "markdown",
   "metadata": {},
   "source": [
    "Faça uma função que receba uma string e retorne uma nova string substituindo:\n",
    "\n",
    "'a' por '4'\n",
    "\n",
    "'e' por '3'\n",
    "\n",
    "'I' por '1'\n",
    "\n",
    "'t' por '7'"
   ]
  },
  {
   "cell_type": "code",
   "execution_count": 94,
   "metadata": {},
   "outputs": [
    {
     "name": "stdout",
     "output_type": "stream",
     "text": [
      "J3ssic4\n"
     ]
    }
   ],
   "source": [
    "palavra = input(\"Insira uma palavra: \")\n",
    "palavra_nova = palavra.replace('a', '4').replace('e','3').replace('l','1').replace('t','7')\n",
    "\n",
    "print(palavra_nova)"
   ]
  },
  {
   "cell_type": "markdown",
   "metadata": {},
   "source": [
    "Faça uma função que recebe uma string e retorna ela ao contrário.\n",
    "\n",
    "Exemplo: Recebe \"teste\" e retorna \"etset\"."
   ]
  },
  {
   "cell_type": "code",
   "execution_count": 98,
   "metadata": {},
   "outputs": [],
   "source": [
    "def inverter_texto(texto:str)->str:\n",
    "\n",
    "    texto_invertido = texto[::-1]\n",
    "\n",
    "    return texto_invertido"
   ]
  },
  {
   "cell_type": "code",
   "execution_count": 99,
   "metadata": {},
   "outputs": [
    {
     "data": {
      "text/plain": [
       "'ogirdoR'"
      ]
     },
     "execution_count": 99,
     "metadata": {},
     "output_type": "execute_result"
    }
   ],
   "source": [
    "inverter_texto('Rodrigo')"
   ]
  },
  {
   "cell_type": "markdown",
   "metadata": {},
   "source": [
    "Agora faça uma função que recebe uma palavra e diz se ela é um palíndromo, ou seja, se ela é igual a ela mesma ao contrário.\n",
    "\n",
    "Dica: use a função do exercício anterior."
   ]
  },
  {
   "cell_type": "code",
   "execution_count": 105,
   "metadata": {},
   "outputs": [],
   "source": [
    "def palindromo(texto:str) -> bool:\n",
    "    return texto.lower() == inverter_texto(texto.lower())"
   ]
  },
  {
   "cell_type": "code",
   "execution_count": 106,
   "metadata": {},
   "outputs": [
    {
     "data": {
      "text/plain": [
       "True"
      ]
     },
     "execution_count": 106,
     "metadata": {},
     "output_type": "execute_result"
    }
   ],
   "source": [
    "palindromo('Ana')"
   ]
  },
  {
   "cell_type": "markdown",
   "metadata": {},
   "source": [
    "Faça uma função que receba um texto e uma palavra, então verifique se a palavra está no texto, retornando True ou False.\n"
   ]
  },
  {
   "cell_type": "code",
   "execution_count": 112,
   "metadata": {},
   "outputs": [],
   "source": [
    "def verfica_texto(texto, palavra):\n",
    "    return palavra.upper() in texto.upper()\n"
   ]
  },
  {
   "cell_type": "code",
   "execution_count": 113,
   "metadata": {},
   "outputs": [
    {
     "data": {
      "text/plain": [
       "True"
      ]
     },
     "execution_count": 113,
     "metadata": {},
     "output_type": "execute_result"
    }
   ],
   "source": [
    "verfica_texto('O Palmeiras não tem mundial', 'Mundial')"
   ]
  },
  {
   "cell_type": "markdown",
   "metadata": {},
   "source": [
    "Faça uma função que receba uma string que contém tanto números quanto letras e caracteres especiais, e que separe as letras em uma variável e os números em outra (os caracteres especiais podem ser descartados). Ao final a função deve imprimir as duas variáveis."
   ]
  },
  {
   "cell_type": "code",
   "execution_count": 3,
   "metadata": {},
   "outputs": [],
   "source": [
    "def separa_caracter(texto: str)-> None:\n",
    "    numeros = ''\n",
    "    letras = ''\n",
    "\n",
    "    for caracter in texto:\n",
    "        if caracter.isdigit():\n",
    "            numeros += caracter\n",
    "        elif caracter.isalpha():  \n",
    "            letras += caracter\n",
    "        \n",
    "\n",
    "    print(numeros)\n",
    "    print(letras)\n",
    "\n"
   ]
  },
  {
   "cell_type": "code",
   "execution_count": 4,
   "metadata": {},
   "outputs": [
    {
     "name": "stdout",
     "output_type": "stream",
     "text": [
      "123456\n",
      "Brasil\n"
     ]
    }
   ],
   "source": [
    "separa_caracter('123Brasil456!')\n"
   ]
  },
  {
   "cell_type": "code",
   "execution_count": 115,
   "metadata": {},
   "outputs": [
    {
     "data": {
      "text/plain": [
       "True"
      ]
     },
     "execution_count": 115,
     "metadata": {},
     "output_type": "execute_result"
    }
   ],
   "source": [
    "teste = '32'\n",
    "\n",
    "teste.isdigit()"
   ]
  },
  {
   "cell_type": "markdown",
   "metadata": {},
   "source": [
    "Desafio - Faça uma função que receba uma string e uma letra e:\n",
    "\n",
    "a. imprima quantas vezes a letra aparece na string;\n",
    "\n",
    "b. imprima todas as posições em que a letra aparece na string;\n",
    "\n",
    "c. retorne a distância entre a primeira e a última aparição dessa letra na string."
   ]
  },
  {
   "cell_type": "code",
   "execution_count": 94,
   "metadata": {},
   "outputs": [
    {
     "name": "stdout",
     "output_type": "stream",
     "text": [
      "A letra a, aparece 3 vezes.\n",
      "Na posição: 2\n",
      "Na posição: 4\n",
      "Na posição: 7\n",
      "A distância entre a primeira e a última aparição da letra a é: 5\n"
     ]
    }
   ],
   "source": [
    "texto = 'rafaela'\n",
    "letra = 'a'\n",
    "contador = 0\n",
    "lista = []\n",
    "\n",
    "\n",
    "\n",
    "for i in range(0,len(texto)):\n",
    "    if letra == texto[i]: \n",
    "        contador +=1\n",
    "        lista.append(i) \n",
    "        \n",
    "print (f'A letra {letra}, aparece {contador} vezes.')    # a. imprima quantas vezes a letra aparece na string\n",
    "\n",
    "for j in lista:\n",
    "    print(f\"Na posição: {j+1}\")\n",
    "\n",
    "\n",
    "# print(f\"Nas posições {lista}\") # b. imprima quantas vezes a letra aparece na string\n",
    "print(f\"A distância entre a primeira e a última aparição da letra {letra} é: {lista[-1]-lista[0]}\") # c. retorne a distância entre a primeira e a última aparição dessa letra na string.\n",
    "\n",
    "\n",
    "\n",
    "    \n",
    "    "
   ]
  },
  {
   "cell_type": "code",
   "execution_count": 66,
   "metadata": {},
   "outputs": [
    {
     "name": "stdout",
     "output_type": "stream",
     "text": [
      "2\n"
     ]
    }
   ],
   "source": [
    "texto = 'rodrigo'\n",
    "lista = list(texto)\n",
    "cont = lista.count('r')\n",
    "print(cont) "
   ]
  },
  {
   "cell_type": "code",
   "execution_count": 100,
   "metadata": {},
   "outputs": [],
   "source": [
    "def conta_letra(texto:str, letra:str)->None:\n",
    "    contador = 0\n",
    "\n",
    "    for i in range(0,len(texto)):\n",
    "        if texto[i] == letra:\n",
    "            contador += 1\n",
    "    return contador"
   ]
  },
  {
   "cell_type": "code",
   "execution_count": 101,
   "metadata": {},
   "outputs": [
    {
     "data": {
      "text/plain": [
       "2"
      ]
     },
     "execution_count": 101,
     "metadata": {},
     "output_type": "execute_result"
    }
   ],
   "source": [
    "conta_letra('Rodrigo','o')"
   ]
  },
  {
   "cell_type": "markdown",
   "metadata": {},
   "source": [
    "Desafio - faça uma função que criptografa uma mensagem substituindo cada letra pela letra oposta do dicionário:\n",
    "\n",
    "'a' por 'z'\n",
    "\n",
    "'b' por 'y'\n",
    "\n",
    "'c' por 'x'"
   ]
  },
  {
   "cell_type": "code",
   "execution_count": 21,
   "metadata": {},
   "outputs": [
    {
     "name": "stdout",
     "output_type": "stream",
     "text": [
      "abcabc\n"
     ]
    }
   ],
   "source": [
    "lista = ['a', 'b', 'c', 'd', 'e', 'f', 'g', 'h', 'i', 'j', 'k', 'l', 'm', 'n','p', 'q', 'r', 's','t', 'u', 'v', 'w', 'x', 'y', 'z']\n",
    "lista_reversa = lista[::-1]\n",
    "\n",
    "frase = 'abc'\n",
    "\n",
    "for i in range(0, len(lista)):\n",
    "    corrigida = frase.replace(lista[i], lista_reversa[i])\n",
    "    corrigida += corrigida\n",
    "print(corrigida)\n",
    "\n",
    "\n",
    "# palavra = list(palavra)\n",
    "\n",
    "# print(palavra)\n",
    "# resultado = zyx\n",
    "\n",
    "\n",
    "# for i in range(0,len(lista)):\n",
    "    \n",
    "# palavra[2] = lista_reversa[2]\n",
    "# print(palavra[2])\n",
    "\n",
    "# corrigida = frase.replace('difícil', 'fácil')\n",
    "\n",
    "#for i in lista_reversa:\n",
    "\n"
   ]
  },
  {
   "cell_type": "code",
   "execution_count": null,
   "metadata": {},
   "outputs": [],
   "source": [
    "palavra = \"abc\"\n",
    "palavra_nova = \"\"\n",
    "\n",
    "lista = ['a', 'b', 'c', 'd', 'e', 'f', 'g', 'h', 'i', 'j', 'k', 'l', 'm', 'n','p', 'q', 'r', 's','t', 'u', 'v', 'w', 'x', 'y', 'z']\n",
    "lista_reversa = lista[::-1]\n",
    "\n",
    "for i in range(0, len(lista)):\n",
    "    for caracter in palavra[i]:\n",
    "\n",
    "        palavra_nova = caracter.replace(lista[i], lista_reversa[i])\n",
    "    print (palavra_nova)"
   ]
  },
  {
   "cell_type": "code",
   "execution_count": 18,
   "metadata": {},
   "outputs": [
    {
     "name": "stdout",
     "output_type": "stream",
     "text": [
      "{'a': 'z', 'b': 'y', 'c': 'x', 'd': 'w', 'e': 'v', 'f': 'u', 'g': 't', 'h': 's', 'i': 'r', 'j': 'q', 'k': 'p', 'l': 'n', 'm': 'm', 'n': 'l', 'p': 'k', 'q': 'j', 'r': 'i', 's': 'h', 't': 'g', 'u': 'f', 'v': 'e', 'w': 'd', 'x': 'c', 'y': 'b', 'z': 'a'}\n",
      "a z\n",
      "b y\n",
      "c x\n",
      "d w\n",
      "e v\n",
      "f u\n",
      "g t\n",
      "h s\n",
      "i r\n",
      "j q\n",
      "k p\n",
      "l n\n",
      "m m\n",
      "n l\n",
      "p k\n",
      "q j\n",
      "r i\n",
      "s h\n",
      "t g\n",
      "u f\n",
      "v e\n",
      "w d\n",
      "x c\n",
      "y b\n",
      "z a\n",
      "l\n"
     ]
    }
   ],
   "source": [
    "lista = ['a', 'b', 'c', 'd', 'e', 'f', 'g', 'h', 'i', 'j', 'k', 'l', 'm', 'n','p', 'q', 'r', 's','t', 'u', 'v', 'w', 'x', 'y', 'z']\n",
    "lista_reversa = lista[::-1]\n",
    "dict_crip = {}\n",
    "texto = 'l'\n",
    "\n",
    "for i in range(0,len(lista)):\n",
    "    dict_crip.update({lista[i]:lista_reversa[i]})    \n",
    "print(dict_crip)\n",
    "\n",
    "for j in dict_crip: \n",
    "    texto = texto.replace(j, dict_crip[j])\n",
    "    print(j, dict_crip[j])\n",
    "print(texto)\n",
    "\n"
   ]
  }
 ],
 "metadata": {
  "interpreter": {
   "hash": "40d3a090f54c6569ab1632332b64b2c03c39dcf918b08424e98f38b5ae0af88f"
  },
  "kernelspec": {
   "display_name": "Python 3.9.7 ('base')",
   "language": "python",
   "name": "python3"
  },
  "language_info": {
   "codemirror_mode": {
    "name": "ipython",
    "version": 3
   },
   "file_extension": ".py",
   "mimetype": "text/x-python",
   "name": "python",
   "nbconvert_exporter": "python",
   "pygments_lexer": "ipython3",
   "version": "3.9.7"
  },
  "orig_nbformat": 4
 },
 "nbformat": 4,
 "nbformat_minor": 2
}
