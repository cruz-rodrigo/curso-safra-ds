{
 "cells": [
  {
   "cell_type": "markdown",
   "metadata": {
    "id": "ksWegZoKs1PA"
   },
   "source": [
    "## 🎯 Exercícios 🎯 <a class=\"anchor\" id=\"cinco\"></a>\n",
    "\n",
    "**1)** Faça um Programa que mostre a mensagem \"Alô mundo\" na tela."
   ]
  },
  {
   "cell_type": "code",
   "execution_count": 22,
   "metadata": {
    "id": "Ajg4JjQSs1PA"
   },
   "outputs": [
    {
     "name": "stdout",
     "output_type": "stream",
     "text": [
      "Alô mundo!\n"
     ]
    }
   ],
   "source": [
    "print(f\"Alô mundo!\")"
   ]
  },
  {
   "cell_type": "markdown",
   "metadata": {
    "id": "UbK0yPCys1PB"
   },
   "source": [
    "**2)** Faça um Programa que peça as 4 notas bimestrais e mostre a média."
   ]
  },
  {
   "cell_type": "code",
   "execution_count": 21,
   "metadata": {
    "id": "6Q6tE9z9s1PB"
   },
   "outputs": [
    {
     "name": "stdout",
     "output_type": "stream",
     "text": [
      "Insira sua 1ª nota: 1.2\n",
      "Insira sua 2ª nota: 3.3\n",
      "Insira sua 3ª nota: 5\n",
      "Insira sua 4ª nota: 7\n",
      "Sua média bimestral é: 4.12\n"
     ]
    }
   ],
   "source": [
    "nota_1 = float(input(\"Insira sua 1ª nota: \"))\n",
    "nota_2 = float(input(\"Insira sua 2ª nota: \"))\n",
    "nota_3 = float(input(\"Insira sua 3ª nota: \"))\n",
    "nota_4 = float(input(\"Insira sua 4ª nota: \"))\n",
    "\n",
    "media = (nota_1 + nota_2 + nota_3 + nota_4)/4\n",
    "\n",
    "print(f\"Sua média bimestral é: {media:.2f}\")"
   ]
  },
  {
   "cell_type": "markdown",
   "metadata": {
    "id": "ED1eOWnfs1PB"
   },
   "source": [
    "**3)** Faça um Programa que pergunte quanto você ganha por hora e o número de horas trabalhadas no mês. Calcule e mostre o total do seu salário no referido mês."
   ]
  },
  {
   "cell_type": "code",
   "execution_count": 23,
   "metadata": {
    "id": "elBT1_j-s1PB"
   },
   "outputs": [
    {
     "name": "stdout",
     "output_type": "stream",
     "text": [
      "Quanto você recebe por hora trabalhada?: 100\n",
      "Insira quantas horas você trabalhou neste mês: 17\n",
      "Seu salário neste mês foi de: R$ 1700.00\n"
     ]
    }
   ],
   "source": [
    "valorHora = float(input(\"Quanto você recebe por hora trabalhada?: \"))\n",
    "horas = float(input(\"Insira quantas horas você trabalhou neste mês: \"))\n",
    "\n",
    "salario = valorHora*horas\n",
    "\n",
    "print(f\"Seu salário neste mês foi de: R$ {salario:.2f}\")\n"
   ]
  },
  {
   "cell_type": "markdown",
   "metadata": {
    "id": "d4cKZGA5s1PC"
   },
   "source": [
    "**4)** Faça um Programa que peça a temperatura em graus Fahrenheit, transforme e mostre a temperatura em graus Celsius.<br>\n",
    "\n",
    "$$ C = \\frac{5 * (F-32)}{9} $$"
   ]
  },
  {
   "cell_type": "code",
   "execution_count": 29,
   "metadata": {
    "id": "_xL0P4KFs1PC"
   },
   "outputs": [
    {
     "name": "stdout",
     "output_type": "stream",
     "text": [
      "Digite a temperatura em Fahrenheit: 212\n",
      "A temperatura equivalente em celsius de 212.00°F é: 100.00°C\n"
     ]
    }
   ],
   "source": [
    "fahrenheit = float(input('Digite a temperatura em Fahrenheit: '))\n",
    "\n",
    "celsius = (5 * (fahrenheit - 32))/9\n",
    "\n",
    "\n",
    "print(f'A temperatura equivalente em celsius de {fahrenheit:.2f}°F é: {celsius:.2f}°C')"
   ]
  },
  {
   "cell_type": "markdown",
   "metadata": {
    "id": "0WjyN3o2s1PC"
   },
   "source": [
    "**5)** Faça um Programa que pergunte quanto você ganha por hora e o número de horas trabalhadas no mês. Calcule e mostre o total do seu salário no referido mês, sabendo-se que são descontados 11% para o Imposto de Renda, 8% para o INSS e 5% para o sindicato, faça um programa que nos dê:\n",
    "- Salário bruto.\n",
    "- Quanto pagou ao INSS.\n",
    "- Quanto pagou ao sindicato.\n",
    "- O salário líquido."
   ]
  },
  {
   "cell_type": "code",
   "execution_count": 30,
   "metadata": {
    "id": "jUAsGTQ-s1PC"
   },
   "outputs": [
    {
     "name": "stdout",
     "output_type": "stream",
     "text": [
      "Digite seu salário por hora: 100\n",
      "Digite quantas horas você trabalhou este mês: 160\n",
      "Salário bruto: 16000.0\n",
      "Valor pago de IR: 1760.0\n",
      "Valor pago ao INSS: 1280.0\n",
      "Valor pago ao sindicato: 800.0\n",
      "Salário líquido: 12160.0\n"
     ]
    }
   ],
   "source": [
    "salario_hora = float(input('Digite seu salário por hora: '))\n",
    "horas_mes = float(input('Digite quantas horas você trabalhou este mês: '))\n",
    "\n",
    "salario_bruto = salario_hora*horas_mes\n",
    "\n",
    "pct_IR = 0.11\n",
    "pct_INSS = 0.08\n",
    "pct_sindicato = 0.05\n",
    "\n",
    "valor_IR = salario_bruto*pct_IR\n",
    "valor_INSS = salario_bruto*pct_INSS\n",
    "valor_sindicato = salario_bruto*pct_sindicato\n",
    "\n",
    "salario_liquido = salario_bruto - valor_IR - valor_INSS - valor_sindicato\n",
    "\n",
    "print('Salário bruto:', salario_bruto)\n",
    "print('Valor pago de IR:', valor_IR)\n",
    "print('Valor pago ao INSS:', valor_INSS)\n",
    "print('Valor pago ao sindicato:', valor_sindicato)\n",
    "print('Salário líquido:', salario_liquido)"
   ]
  },
  {
   "cell_type": "markdown",
   "metadata": {
    "id": "AaZKq2Wfs1PC"
   },
   "source": [
    "**6)** João Papo-de-Pescador, homem de bem, comprou um microcomputador para controlar o rendimento diário de seu trabalho. Toda vez que ele traz um peso de peixes maior que o estabelecido pelo regulamento de pesca do estado de São Paulo (50 quilos) deve pagar uma multa de R$ 4,00 por quilo excedente. João precisa que você faça um programa que leia a variável peso (peso de peixes) e calcule o excesso. Gravar na variável excesso a quantidade de quilos além do limite e na variável multa o valor da multa que João deverá pagar. Imprima os dados do programa com as mensagens adequadas."
   ]
  },
  {
   "cell_type": "code",
   "execution_count": 39,
   "metadata": {
    "id": "lvQpZRQKs1PC"
   },
   "outputs": [
    {
     "name": "stdout",
     "output_type": "stream",
     "text": [
      "João trouxe 50 kg de peixes\n",
      "João trouxe 0 kg de peixes a mais do que podia\n",
      "A multa foi de R$ 0\n"
     ]
    }
   ],
   "source": [
    "peso = 50\n",
    "limite = 50\n",
    "\n",
    "diferenca = (peso - limite)*(peso > limite)\n",
    "multa = diferenca * 4\n",
    "\n",
    "print('João trouxe', peso, 'kg de peixes')\n",
    "print('João trouxe', diferenca, 'kg de peixes a mais do que podia')\n",
    "print('A multa foi de R$', multa)"
   ]
  },
  {
   "cell_type": "markdown",
   "metadata": {
    "id": "70DJrG3ds1PD"
   },
   "source": [
    "**7)** Faça um Programa para uma loja de tintas. O programa deverá pedir o tamanho em metros quadrados da área a ser pintada. Considere que a cobertura da tinta é de 1 litro para cada 6 metros quadrados e que a tinta é vendida em latas de 18 litros, que custam 80,00 reais ou em galões de 3,6 litros, que custam 25,00 reais.<br>\n",
    "&emsp; Informe ao usuário as quantidades de tinta a serem compradas e os respectivos preços em 3 situações:\n",
    "- Comprar apenas latas de 18 litros;\n",
    "- Comprar apenas galões de 3,6 litros;\n",
    "- Misturar latas e galões, de forma que o desperdício de tinta seja menor. Podem considerar latas pela metade (valores decimais para quantidade de latas)"
   ]
  },
  {
   "cell_type": "code",
   "execution_count": 1,
   "metadata": {
    "id": "JvBYJ4Fks1PD"
   },
   "outputs": [
    {
     "name": "stdout",
     "output_type": "stream",
     "text": [
      "Digite a área a ser pintada (em m²): 109\n",
      "- Usando apenas latas: 2 lata(s) - R$ 160\n",
      "- Usando apenas galões: 6 galão(ões) - R$ 150\n",
      "- Usando os dois: 1 lata(s) e 1 galão(ões) - R$ 105\n"
     ]
    }
   ],
   "source": [
    "tamanho_m2 = float(input('Digite a área a ser pintada (em m²): '))\n",
    "litros = tamanho_m2 / 6\n",
    "\n",
    "preco_latas = 80\n",
    "preco_galoes = 25\n",
    "\n",
    "# Só latas\n",
    "total_latas = int(litros/18) + (litros%18 > 0)\n",
    "preco_latas_ = total_latas * preco_latas\n",
    "\n",
    "# Só galões\n",
    "total_galoes = int(litros/3.6) + (litros%3.6 > 0)\n",
    "preco_galoes_ = total_galoes * preco_galoes\n",
    "\n",
    "# Misturando\n",
    "total_latas_m = int(litros/18)\n",
    "restante = litros - (total_latas_m*18)\n",
    "total_galoes_m = int(restante/3.6) + (restante%3.6 > 0)\n",
    "\n",
    "preco_mistura = (total_latas_m * preco_latas) + (total_galoes_m * preco_galoes)\n",
    "\n",
    "print('- Usando apenas latas:', round(total_latas, 2), 'lata(s) - R$', round(preco_latas_, 2))\n",
    "print('- Usando apenas galões:', round(total_galoes, 2), 'galão(ões) - R$', round(preco_galoes_, 2))\n",
    "print('- Usando os dois:', round(total_latas_m, 2), 'lata(s) e', round(total_galoes_m, 2), 'galão(ões) - R$', round(preco_mistura, 2))"
   ]
  }
 ],
 "metadata": {
  "colab": {
   "name": "Aula 1 - Introducao.ipynb",
   "provenance": []
  },
  "kernelspec": {
   "display_name": "Python 3 (ipykernel)",
   "language": "python",
   "name": "python3"
  },
  "language_info": {
   "codemirror_mode": {
    "name": "ipython",
    "version": 3
   },
   "file_extension": ".py",
   "mimetype": "text/x-python",
   "name": "python",
   "nbconvert_exporter": "python",
   "pygments_lexer": "ipython3",
   "version": "3.9.7"
  }
 },
 "nbformat": 4,
 "nbformat_minor": 1
}
